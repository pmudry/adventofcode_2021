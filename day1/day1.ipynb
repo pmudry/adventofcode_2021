{
 "cells": [
  {
   "cell_type": "markdown",
   "metadata": {},
   "source": [
    "# Day 1 : Sonar sweep \n",
    "from [AdventOfCode website](https://adventofcode.com/2021])\n",
    "\n",
    "> You're minding your own business on a ship at sea when the overboard alarm goes off! You rush to see if you can help. Apparently, one of the Elves tripped and accidentally sent the sleigh keys flying into the  > ocean!\n",
    ">\n",
    "> Before you know it, you're inside a submarine the Elves keep ready for situations like this. It's covered in Christmas lights (because of course it is), and it even has an experimental antenna that should be \n",
    "> able to track the keys if you can boost its signal strength high enough; there's a little meter that indicates the antenna's signal strength by displaying 0-50 stars.\n",
    ">\n",
    "> Your instincts tell you that in order to save Christmas, you'll need to get all fifty stars by December 25th.\n",
    ">\n",
    "> Collect stars by solving puzzles. Two puzzles will be made available on each day in the Advent calendar; the second puzzle is unlocked when you complete the first. Each puzzle grants one star. Good luck!\n",
    ">\n",
    "> As the submarine drops below the surface of the ocean, it automatically performs a sonar sweep of the nearby sea floor. On a small screen, the sonar sweep report (your puzzle input) appears: each line is a > measurement of the sea floor depth as the sweep looks further and further away from the submarine.\n",
    ">\n",
    "> For example, suppose you had the following report:\n",
    "> ```\n",
    "> 199\n",
    "> 200\n",
    "> 208\n",
    "> 210\n",
    "> 200\n",
    "> 207\n",
    "> 240\n",
    "> 269\n",
    "> 260\n",
    "> 263\n",
    "> ```\n",
    ">\n",
    "> This report indicates that, scanning outward from the submarine, the sonar sweep found depths of 199, 200, 208, 210, and so on.\n",
    ">\n",
    "> The first order of business is to figure out how quickly the depth increases, just so you know what you're dealing with - you never know if the keys will get carried into deeper water by an ocean current or a > fish or something. \n",
    ">\n",
    "> To do this, count the number of times a depth measurement increases from the previous measurement. (There is no measurement before the first measurement.) In the example above, the changes are as follows:\n",
    ">\n",
    "> ```\n",
    "> 199 (N/A - no previous measurement)\n",
    "> 200 (increased)\n",
    "> 208 (increased)\n",
    "> 210 (increased)\n",
    "> 200 (decreased)\n",
    "> 207 (increased)\n",
    "> 240 (increased)\n",
    "> 269 (increased)\n",
    "> 260 (decreased)\n",
    "> 263 (increased)\n",
    "> ```\n",
    ">\n",
    "> In this example, there are 7 measurements that are larger than the previous measurement."
   ]
  },
  {
   "cell_type": "code",
   "execution_count": 1,
   "metadata": {},
   "outputs": [
    {
     "data": {
      "text/html": [
       "<div>\n",
       "<style scoped>\n",
       "    .dataframe tbody tr th:only-of-type {\n",
       "        vertical-align: middle;\n",
       "    }\n",
       "\n",
       "    .dataframe tbody tr th {\n",
       "        vertical-align: top;\n",
       "    }\n",
       "\n",
       "    .dataframe thead th {\n",
       "        text-align: right;\n",
       "    }\n",
       "</style>\n",
       "<table border=\"1\" class=\"dataframe\">\n",
       "  <thead>\n",
       "    <tr style=\"text-align: right;\">\n",
       "      <th></th>\n",
       "      <th>Values</th>\n",
       "    </tr>\n",
       "  </thead>\n",
       "  <tbody>\n",
       "    <tr>\n",
       "      <th>0</th>\n",
       "      <td>162</td>\n",
       "    </tr>\n",
       "    <tr>\n",
       "      <th>1</th>\n",
       "      <td>164</td>\n",
       "    </tr>\n",
       "    <tr>\n",
       "      <th>2</th>\n",
       "      <td>165</td>\n",
       "    </tr>\n",
       "    <tr>\n",
       "      <th>3</th>\n",
       "      <td>166</td>\n",
       "    </tr>\n",
       "    <tr>\n",
       "      <th>4</th>\n",
       "      <td>175</td>\n",
       "    </tr>\n",
       "  </tbody>\n",
       "</table>\n",
       "</div>"
      ],
      "text/plain": [
       "   Values\n",
       "0     162\n",
       "1     164\n",
       "2     165\n",
       "3     166\n",
       "4     175"
      ]
     },
     "execution_count": 1,
     "metadata": {},
     "output_type": "execute_result"
    }
   ],
   "source": [
    "# Preparing some helper stuff\n",
    "import pandas as pd\n",
    "import matplotlib.pyplot as plt\n",
    "import seaborn as sns \n",
    "import numpy as np\n",
    "\n",
    "# Let's read that file\n",
    "dataFrame = pd.read_csv(\"input_day1.txt\")\n",
    "dataFrame.head()"
   ]
  },
  {
   "cell_type": "code",
   "execution_count": 2,
   "metadata": {},
   "outputs": [
    {
     "data": {
      "text/plain": [
       "[<matplotlib.lines.Line2D at 0x7f0606172970>]"
      ]
     },
     "execution_count": 2,
     "metadata": {},
     "output_type": "execute_result"
    },
    {
     "data": {
      "image/png": "[encoded data removed]",
      "text/plain": [
       "<Figure size 1080x576 with 1 Axes>"
      ]
     },
     "metadata": {
      "needs_background": "light"
     },
     "output_type": "display_data"
    }
   ],
   "source": [
    "# What does it look like ?\n",
    "plt.figure(figsize=(15,8))\n",
    "plt.plot(dataFrame)"
   ]
  },
  {
   "cell_type": "code",
   "execution_count": 3,
   "metadata": {},
   "outputs": [
    {
     "name": "stdout",
     "output_type": "stream",
     "text": [
      "Number of ups 1387\n",
      "Number of down 613\n",
      "Total 2000\n"
     ]
    }
   ],
   "source": [
    "# First try, imperative style\n",
    "nUps = 0\n",
    "nDownsEq = 0\n",
    "\n",
    "# We got a DataFrame from numpy, get a list instead for working\n",
    "values = dataFrame['Values'].values.tolist()\n",
    "prev = values[0]\n",
    "\n",
    "for val in values:\n",
    "    if(prev < val):        \n",
    "        nUps += 1\n",
    "    else:\n",
    "        nDownsEq += 1\n",
    "    prev = val\n",
    "\n",
    "print(f'Number of ups {nUps}')\n",
    "print(f'Number of down {nDownsEq}')\n",
    "print(f'Total {nUps + nDownsEq}')"
   ]
  },
  {
   "cell_type": "markdown",
   "metadata": {},
   "source": [
    "## First task answer\n",
    "Yeah the total value of ups is then **2000**"
   ]
  },
  {
   "cell_type": "markdown",
   "metadata": {},
   "source": [
    "# Task 2\n",
    "\n",
    "> Considering every single measurement isn't as useful as you expected: there's just too much noise in the data.\n",
    ">\n",
    "> Instead, consider sums of a three-measurement sliding window. Again considering the above example:\n",
    "> \n",
    "> ```\n",
    "> 199  A      \n",
    "> 200  A B    \n",
    "> 208  A B C  \n",
    "> 210    B C D\n",
    "> 200  E   C D\n",
    "> 207  E F   D\n",
    "> 240  E F G  \n",
    "> 269    F G H\n",
    "> 260      G H\n",
    "> 263        H\n",
    "> ```\n",
    "> \n",
    "> Start by comparing the first and second three-measurement windows. The measurements in the first window are marked A (199, 200, 208); their sum is 199 + 200 + 208 = 607. The second window is marked B (200, 208, > 210); its sum is 618. The sum of measurements in the second window is larger than the sum of the first, so this first comparison increased.\n",
    "> \n",
    "> Your goal now is to count the number of times the sum of measurements in this sliding window increases from the previous sum. So, compare A with B, then compare B with C, then C with D, and so on. Stop when > there aren't enough measurements left to create a new three-measurement sum.\n",
    "> \n",
    "> In the above example, the sum of each three-measurement window is as follows:\n",
    "> \n",
    "> ```\n",
    "> A: 607 (N/A - no previous sum)\n",
    "> B: 618 (increased)\n",
    "> C: 618 (no change)\n",
    "> D: 617 (decreased)\n",
    "> E: 647 (increased)\n",
    "> F: 716 (increased)\n",
    "> G: 769 (increased)\n",
    "> H: 792 (increased)\n",
    "> ```\n",
    "> \n",
    "> In this example, there are 5 sums that are larger than the previous sum.\n",
    "> \n",
    "> Consider sums of a three-measurement sliding window. How many sums are larger than the previous sum?"
   ]
  },
  {
   "cell_type": "code",
   "execution_count": 4,
   "metadata": {},
   "outputs": [
    {
     "name": "stdout",
     "output_type": "stream",
     "text": [
      "       Values\n",
      "0       491.0\n",
      "1       495.0\n",
      "2       506.0\n",
      "3       526.0\n",
      "4       542.0\n",
      "...       ...\n",
      "1995  15178.0\n",
      "1996  15188.0\n",
      "1997  15198.0\n",
      "1998      NaN\n",
      "1999      NaN\n",
      "\n",
      "[2000 rows x 1 columns]\n"
     ]
    }
   ],
   "source": [
    "# Take a rolling window of 3 elements, sum that and shift -2 (to have at correct location)\n",
    "windows = dataFrame.rolling(window = 3).sum().shift(-2) \n",
    "\n",
    "# Let's see what we got\n",
    "print(windows)"
   ]
  },
  {
   "cell_type": "code",
   "execution_count": 5,
   "metadata": {},
   "outputs": [
    {
     "name": "stdout",
     "output_type": "stream",
     "text": [
      "Number of ups 1362\n",
      "Number of down 638\n",
      "Total 2000\n"
     ]
    }
   ],
   "source": [
    "# Same things as above as we have already calculated the windows\n",
    "# This should be factorized as a function but I feel a bit lazy right now\n",
    "\n",
    "nUps = 0\n",
    "nDownsEq = 0\n",
    "vals = windows.Values.tolist()\n",
    "prev = vals[0]\n",
    "\n",
    "for val in vals:\n",
    "    if(prev < val):        \n",
    "        nUps += 1\n",
    "    else:\n",
    "        nDownsEq += 1\n",
    "    prev = val\n",
    "\n",
    "print(f'Number of ups {nUps}')\n",
    "print(f'Number of down {nDownsEq}')\n",
    "print(f'Total {nUps + nDownsEq}')"
   ]
  },
  {
   "cell_type": "markdown",
   "metadata": {},
   "source": [
    "## Second task answer \n",
    "\n",
    "And the correct answer is **1362**"
   ]
  }
 ],
 "metadata": {
  "interpreter": {
   "hash": "de7c405ac74a7c5571d216e0633ceefdaa081ede9185a5d55588f1922b987c2f"
  },
  "kernelspec": {
   "display_name": "Python 3 (ipykernel)",
   "language": "python",
   "name": "python3"
  },
  "language_info": {
   "codemirror_mode": {
    "name": "ipython",
    "version": 3
   },
   "file_extension": ".py",
   "mimetype": "text/x-python",
   "name": "python",
   "nbconvert_exporter": "python",
   "pygments_lexer": "ipython3",
   "version": "3.9.5"
  }
 },
 "nbformat": 4,
 "nbformat_minor": 4
}
