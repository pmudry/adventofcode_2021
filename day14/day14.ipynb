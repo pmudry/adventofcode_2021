{
 "cells": [
  {
   "cell_type": "markdown",
   "metadata": {},
   "source": [
    "# Day 21 : Extended Polymerization\n",
    "from [AdventOfCode'21 website](https://adventofcode.com/2021])\n",
    "\n",
    "The incredible pressures at this depth are starting to put a strain on your submarine. The submarine has polymerization equipment that would produce suitable materials to reinforce the submarine, and the nearby volcanically-active caves should even have the necessary input elements in sufficient quantities.\n",
    "\n",
    "The submarine manual contains instructions for finding the optimal polymer formula; specifically, it offers a polymer template and a list of pair insertion rules (your puzzle input). You just need to work out what polymer would result after repeating the pair insertion process a few times.\n",
    "\n",
    "For example:\n",
    "```\n",
    "NNCB\n",
    "\n",
    "CH -> B\n",
    "HH -> N\n",
    "CB -> H\n",
    "NH -> C\n",
    "HB -> C\n",
    "HC -> B\n",
    "HN -> C\n",
    "NN -> C\n",
    "BH -> H\n",
    "NC -> B\n",
    "NB -> B\n",
    "BN -> B\n",
    "BB -> N\n",
    "BC -> B\n",
    "CC -> N\n",
    "CN -> C\n",
    "```\n",
    "The first line is the polymer template - this is the starting point of the process.\n",
    "\n",
    "The following section defines the pair insertion rules. A rule like AB -> C means that when elements A and B are immediately adjacent, element C should be inserted between them. These insertions all happen simultaneously.\n",
    "\n",
    "So, starting with the polymer template `NNCB`, the first step simultaneously considers all three pairs:\n",
    "\n",
    "The first pair (NN) matches the rule NN -> C, so element C is inserted between the first N and the second N.\n",
    "The second pair (NC) matches the rule NC -> B, so element B is inserted between the N and the C.\n",
    "The third pair (CB) matches the rule CB -> H, so element H is inserted between the C and the B.\n",
    "Note that these pairs overlap: the second element of one pair is the first element of the next pair. Also, because all pairs are considered simultaneously, inserted elements are not considered to be part of a pair until the next step.\n",
    "\n",
    "After the first step of this process, the polymer becomes `NCNBCHB`.\n",
    "\n",
    "Here are the results of a few steps using the above rules:\n",
    "\n",
    "```\n",
    "Template:     NNCB\n",
    "After step 1: NCNBCHB\n",
    "After step 2: NBCCNBBBCBHCB\n",
    "After step 3: NBBBCNCCNBBNBNBBCHBHHBCHB\n",
    "After step 4: NBBNBNBBCCNBCNCCNBBNBBNBBBNBBNBBCBHCBHHNHCBBCBHCB\n",
    "```\n",
    "\n",
    "This polymer grows quickly. After step 5, it has length 97; After step 10, it has length 3073. After step 10, B occurs 1749 times, C occurs 298 times, H occurs 161 times, and N occurs 865 times; taking the quantity of the most common element (B, 1749) and subtracting the quantity of the least common element (H, 161) produces 1749 - 161 = 1588.\n",
    "\n",
    "Apply 10 steps of pair insertion to the polymer template and find the most and least common elements in the result. What do you get if you take the quantity of the most common element and subtract the quantity of the least common element?"
   ]
  },
  {
   "cell_type": "code",
   "execution_count": 7,
   "metadata": {},
   "outputs": [
    {
     "name": "stdout",
     "output_type": "stream",
     "text": [
      "NNCB\n",
      "\n",
      "CH -> B\n",
      "HH -> N\n",
      "CB -> H\n",
      "NH -> C\n",
      "HB -> C\n",
      "HC -> B\n",
      "HN -> C\n",
      "NN -> C\n",
      "BH -> H\n",
      "NC -> B\n",
      "NB -> B\n",
      "BN -> B\n",
      "BB -> N\n",
      "BC -> B\n",
      "CC -> N\n",
      "CN -> C\n"
     ]
    }
   ],
   "source": [
    "def parse_input(fileName: str):\n",
    "    with open(fileName) as f:\n",
    "        template = f.readline().strip()\n",
    "        f.readline\n",
    "        patterns = f.read().splitlines()\n",
    "        patterns = {}\n",
    "    return template, patterns\n",
    "\n",
    "SAMPLE_TEMPLATE, SAMPLE_PATTERNS = parse_input('input_day14_sample.txt')\n",
    "INPUT_TEMPLATE, INPUT_PATTERNS   = parse_input('input_day14.txt')\n",
    "\n",
    "print(SAMPLE_TEMPLATE)\n",
    "print(''.join(SAMPLE_PATTERNS))\n",
    "\n",
    "def part1_compute(template, patterns):\n",
    "    # Split in pairs every template\n",
    "    \n",
    "    return 0, 1588\n",
    "\n",
    "least_common, most_common = part1_compute(SAMPLE_TEMPLATE, SAMPLE_PATTERNS)\n",
    "assert (most_common - least_common) == 1588\n",
    "\n"
   ]
  },
  {
   "cell_type": "code",
   "execution_count": 3,
   "metadata": {},
   "outputs": [
    {
     "data": {
      "text/plain": [
       "10"
      ]
     },
     "execution_count": 3,
     "metadata": {},
     "output_type": "execute_result"
    }
   ],
   "source": [
    "0 or 10"
   ]
  }
 ],
 "metadata": {
  "interpreter": {
   "hash": "916dbcbb3f70747c44a77c7bcd40155683ae19c65e1c03b4aa3499c5328201f1"
  },
  "kernelspec": {
   "display_name": "Python 3.8.5 64-bit",
   "language": "python",
   "name": "python3"
  },
  "language_info": {
   "codemirror_mode": {
    "name": "ipython",
    "version": 3
   },
   "file_extension": ".py",
   "mimetype": "text/x-python",
   "name": "python",
   "nbconvert_exporter": "python",
   "pygments_lexer": "ipython3",
   "version": "3.9.7"
  },
  "orig_nbformat": 4
 },
 "nbformat": 4,
 "nbformat_minor": 2
}
