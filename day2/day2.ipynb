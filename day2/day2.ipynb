{
 "cells": [
  {
   "cell_type": "markdown",
   "metadata": {},
   "source": [
    "# Day 2: Dive!\n",
    "from [AdventOfCode website]()\n",
    "\n",
    "> Now, you need to figure out how to pilot this thing.\n",
    "> \n",
    "> It seems like the submarine can take a series of commands like forward 1, down 2, or up 3:\n",
    "> \n",
    "> - forward X increases the horizontal position by X units.\n",
    "> - down X increases the depth by X units.\n",
    "> - up X decreases the depth by X units.\n",
    "> \n",
    "> Note that since you're on a submarine, down and up affect your depth, and so they have the opposite result of what you might expect.\n",
    "> \n",
    "> The submarine seems to already have a planned course (your puzzle input). You should probably figure out where it's going. For example:\n",
    "> ```\n",
    "> forward 5\n",
    "> down 5\n",
    "> forward 8\n",
    "> up 3\n",
    "> down 8\n",
    "> forward 2\n",
    "> ```\n",
    "> Your horizontal position and depth both start at 0. The steps above would then modify them as follows:\n",
    "> \n",
    "> - forward 5 adds 5 to your horizontal position, a total of 5.\n",
    "> - down 5 adds 5 to your depth, resulting in a value of 5.\n",
    "> - forward 8 adds 8 to your horizontal position, a total of 13.\n",
    "> - up 3 decreases your depth by 3, resulting in a value of 2.\n",
    "> - down 8 adds 8 to your depth, resulting in a value of 10.\n",
    "> - forward 2 adds 2 to your horizontal position, a total of 15.\n",
    ">\n",
    "> After following these instructions, you would have a horizontal position of 15 and a depth of 10. (Multiplying these together produces 150.)\n",
    "> \n",
    "> Calculate the horizontal position and depth you would have after following the planned course.\n",
    ">\n",
    "> **What do you get if you multiply your final horizontal position by your final depth?**"
   ]
  },
  {
   "cell_type": "code",
   "execution_count": 1,
   "metadata": {},
   "outputs": [
    {
     "data": {
      "text/html": [
       "<div>\n",
       "<style scoped>\n",
       "    .dataframe tbody tr th:only-of-type {\n",
       "        vertical-align: middle;\n",
       "    }\n",
       "\n",
       "    .dataframe tbody tr th {\n",
       "        vertical-align: top;\n",
       "    }\n",
       "\n",
       "    .dataframe thead th {\n",
       "        text-align: right;\n",
       "    }\n",
       "</style>\n",
       "<table border=\"1\" class=\"dataframe\">\n",
       "  <thead>\n",
       "    <tr style=\"text-align: right;\">\n",
       "      <th></th>\n",
       "      <th>Values</th>\n",
       "    </tr>\n",
       "  </thead>\n",
       "  <tbody>\n",
       "    <tr>\n",
       "      <th>0</th>\n",
       "      <td>forward 2</td>\n",
       "    </tr>\n",
       "    <tr>\n",
       "      <th>1</th>\n",
       "      <td>down 2</td>\n",
       "    </tr>\n",
       "    <tr>\n",
       "      <th>2</th>\n",
       "      <td>forward 6</td>\n",
       "    </tr>\n",
       "    <tr>\n",
       "      <th>3</th>\n",
       "      <td>forward 8</td>\n",
       "    </tr>\n",
       "    <tr>\n",
       "      <th>4</th>\n",
       "      <td>down 8</td>\n",
       "    </tr>\n",
       "  </tbody>\n",
       "</table>\n",
       "</div>"
      ],
      "text/plain": [
       "      Values\n",
       "0  forward 2\n",
       "1     down 2\n",
       "2  forward 6\n",
       "3  forward 8\n",
       "4     down 8"
      ]
     },
     "execution_count": 1,
     "metadata": {},
     "output_type": "execute_result"
    }
   ],
   "source": [
    "# Preparing some helper stuff\n",
    "import pandas as pd\n",
    "import matplotlib.pyplot as plt\n",
    "import seaborn as sns \n",
    "import numpy as np\n",
    "\n",
    "# Let's read that file\n",
    "dataFrame = pd.read_csv(\"input_day2.txt\")\n",
    "dataFrame.head()"
   ]
  },
  {
   "cell_type": "code",
   "execution_count": 2,
   "metadata": {},
   "outputs": [
    {
     "data": {
      "text/plain": [
       "[('forward', 2), ('down', 2), ('forward', 6), ('forward', 8)]"
      ]
     },
     "execution_count": 2,
     "metadata": {},
     "output_type": "execute_result"
    }
   ],
   "source": [
    "# Convert from frame, extract directions as strings and movements as numbers\n",
    "texts = dataFrame.Values.tolist()\n",
    "directions = []\n",
    "movements = []\n",
    "\n",
    "# Values are stored as \"forward 2\", split at space\n",
    "for text in texts:\n",
    "    split = text.split(\" \")\n",
    "    directions.append(split[0])\n",
    "    movements.append(int(split[1]))\n",
    "\n",
    "# Get of list from that stuff\n",
    "tuples = zip(directions, movements)\n",
    "tuplesList = list(tuples)\n",
    "tuplesList[0:4] # Check some"
   ]
  },
  {
   "cell_type": "code",
   "execution_count": 3,
   "metadata": {},
   "outputs": [
    {
     "name": "stdout",
     "output_type": "stream",
     "text": [
      "702\n",
      "2034\n",
      "Multipled value is 1427868\n"
     ]
    }
   ],
   "source": [
    "# Compute what's required\n",
    "pos = 0\n",
    "depth = 0\n",
    "for tuple in tuplesList[0:]:\n",
    "    dir = tuple[0]\n",
    "    val = tuple[1]    \n",
    "\n",
    "    if dir == 'forward':\n",
    "        pos = pos + val\n",
    "    elif dir == 'down':\n",
    "        depth = depth + val\n",
    "    elif dir == 'up':\n",
    "        depth = depth - val\n",
    "    else:\n",
    "        \"Error !\"\n",
    "\n",
    "print(depth)\n",
    "print(pos)\n",
    "print(f\"Multiplied value is {pos * depth}\")"
   ]
  },
  {
   "cell_type": "markdown",
   "metadata": {},
   "source": [
    "## Solution of task 1\n",
    "The value searched is then **1427868**"
   ]
  },
  {
   "cell_type": "markdown",
   "metadata": {},
   "source": [
    "# Task 2 \n",
    "\n",
    "> Based on your calculations, the planned course doesn't seem to make any sense. You find the submarine manual and discover that the process is actually slightly more complicated.\n",
    "> \n",
    "> In addition to horizontal position and depth, you'll also need to track a third value, aim, which also starts at 0. The commands also mean something entirely different than you first thought:\n",
    "> \n",
    "> - down X increases your aim by X units.\n",
    "> - up X decreases your aim by X units.\n",
    "> - forward X does two things:\n",
    ">     - It increases your horizontal position by X units.\n",
    ">     - It increases your depth by your aim multiplied by X.\n",
    ">     - Again note that since you're on a submarine, down and up do the opposite of what you might expect: \"down\" means aiming in the positive direction.\n",
    "> \n",
    "> Now, the above example does something different:\n",
    "> \n",
    "> - forward 5 adds 5 to your horizontal position, a total of 5. Because your aim is 0, your depth does not change.\n",
    "> - down 5 adds 5 to your aim, resulting in a value of 5.\n",
    "> - forward 8 adds 8 to your horizontal position, a total of 13. Because your aim is 5, your depth increases by 8*5=40.\n",
    "> - up 3 decreases your aim by 3, resulting in a value of 2.\n",
    "> - down 8 adds 8 to your aim, resulting in a value of 10.\n",
    "> - forward 2 adds 2 to your horizontal position, a total of 15. Because your aim is 10, your depth increases by 2*10=20 to a total of 60.\n",
    "> \n",
    "> After following these new instructions, you would have a horizontal position of 15 and a depth of 60. (Multiplying these produces 900.)\n",
    "> \n",
    "> Using this new interpretation of the commands, calculate the horizontal position and depth you would have after following the planned course. What do you get if you multiply your final horizontal position by \n",
    "> your final depth?"
   ]
  },
  {
   "cell_type": "code",
   "execution_count": 5,
   "metadata": {},
   "outputs": [
    {
     "name": "stdout",
     "output_type": "stream",
     "text": [
      "770963\n",
      "2034\n",
      "Multipled value is 1568138742\n"
     ]
    }
   ],
   "source": [
    "# Compute what's required\n",
    "pos = 0\n",
    "depth = 0\n",
    "aim = 0\n",
    "\n",
    "for tuple in tuplesList[0:]:\n",
    "    dir = tuple[0]\n",
    "    val = tuple[1]    \n",
    "\n",
    "    if dir == 'forward':\n",
    "        pos = pos + val\n",
    "        depth = depth + val * aim\n",
    "    elif dir == 'down':\n",
    "        aim = aim + val\n",
    "    elif dir == 'up':\n",
    "        aim = aim - val\n",
    "    else:\n",
    "        \"Error !\"\n",
    "\n",
    "print(depth)\n",
    "print(pos)\n",
    "print(f\"Multiplied value is {pos * depth}\")"
   ]
  },
  {
   "cell_type": "markdown",
   "metadata": {},
   "source": [
    "## Second task answer\n",
    "Yiaaaa, the correct answer is then **1568138742**"
   ]
  }
 ],
 "metadata": {
  "interpreter": {
   "hash": "916dbcbb3f70747c44a77c7bcd40155683ae19c65e1c03b4aa3499c5328201f1"
  },
  "kernelspec": {
   "display_name": "Python 3 (ipykernel)",
   "language": "python",
   "name": "python3"
  },
  "language_info": {
   "codemirror_mode": {
    "name": "ipython",
    "version": 3
   },
   "file_extension": ".py",
   "mimetype": "text/x-python",
   "name": "python",
   "nbconvert_exporter": "python",
   "pygments_lexer": "ipython3",
   "version": "3.9.5"
  }
 },
 "nbformat": 4,
 "nbformat_minor": 4
}
