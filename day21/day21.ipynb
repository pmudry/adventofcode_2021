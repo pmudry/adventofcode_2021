{
 "cells": [
  {
   "cell_type": "markdown",
   "metadata": {},
   "source": [
    "# Day 21 : Dirac Dice\n",
    "from [AdventOfCode'21 website](https://adventofcode.com/2021])\n",
    "\n",
    "There's not much to do as you slowly descend to the bottom of the ocean. The submarine computer challenges you to a nice game of Dirac Dice.\n",
    "\n",
    "This game consists of a single dice, two pawns, and a game board with a circular track containing ten spaces marked 1 through 10 clockwise. Each player's starting space is chosen randomly (your puzzle input). Player 1 goes first.\n",
    "\n",
    "Players take turns moving. On each player's turn, the player rolls the dice three times and adds up the results. Then, the player moves their pawn that many times forward around the track (that is, moving clockwise on spaces in order of increasing value, wrapping back around to 1 after 10). So, if a player is on space 7 and they roll 2, 2, and 1, they would move forward 5 times, to spaces 8, 9, 10, 1, and finally stopping on 2.\n",
    "\n",
    "After each player moves, they increase their score by the value of the space their pawn stopped on. Players' scores start at 0. So, if the first player starts on space 7 and rolls a total of 5, they would stop on space 2 and add 2 to their score (for a total score of 2). The game immediately ends as a win for any player whose score reaches at least 1000.\n",
    "\n",
    "Since the first game is a practice game, the submarine opens a compartment labeled *deterministic dice* and a 100-sided dice falls out. This dice always rolls 1 first, then 2, then 3, and so on up to 100, after which it starts over at 1 again. Play using this dice.\n",
    "\n",
    "For example, given these starting positions:\n",
    "```\n",
    "Player 1 starting position: 4\n",
    "Player 2 starting position: 8\n",
    "```\n",
    "This is how the game would go:\n",
    "\n",
    "```\n",
    "Player 1 rolls 1+2+3 and moves to space 10 for a total score of 10.\n",
    "Player 2 rolls 4+5+6 and moves to space 3 for a total score of 3.\n",
    "Player 1 rolls 7+8+9 and moves to space 4 for a total score of 14.\n",
    "Player 2 rolls 10+11+12 and moves to space 6 for a total score of 9.\n",
    "Player 1 rolls 13+14+15 and moves to space 6 for a total score of 20.\n",
    "Player 2 rolls 16+17+18 and moves to space 7 for a total score of 16.\n",
    "Player 1 rolls 19+20+21 and moves to space 6 for a total score of 26.\n",
    "Player 2 rolls 22+23+24 and moves to space 6 for a total score of 22.\n",
    "```\n",
    "\n",
    "...after many turns...\n",
    "\n",
    "```\n",
    "Player 2 rolls 82+83+84 and moves to space 6 for a total score of 742.\n",
    "Player 1 rolls 85+86+87 and moves to space 4 for a total score of 990.\n",
    "Player 2 rolls 88+89+90 and moves to space 3 for a total score of 745.\n",
    "Player 1 rolls 91+92+93 and moves to space 10 for a final score, 1000.\n",
    "```\n",
    "Since player 1 has at least 1000 points, player 1 wins and the game ends. At this point, the losing player had 745 points and the dice had been rolled a total of 993 times; 745 * 993 = 739785.\n",
    "\n",
    "Play a practice game using the deterministic 100-sided dice. The moment either player wins, what do you get if you multiply the score of the losing player by the number of times the dice was rolled during the game?"
   ]
  },
  {
   "cell_type": "code",
   "execution_count": 33,
   "metadata": {},
   "outputs": [
    {
     "name": "stdout",
     "output_type": "stream",
     "text": [
      "Result of part 1 : 675024\n"
     ]
    }
   ],
   "source": [
    "SAMPLE = [4, 8]\n",
    "INPUT = [7, 4]\n",
    "\n",
    "class Dice:\n",
    "    \"\"\"A dice model\"\"\"    \n",
    "    def __init__(self, initVal = 0, maxVal=100):\n",
    "        self.initVal = initVal\n",
    "        self.maxVal = maxVal\n",
    "        self.currentVal = initVal\n",
    "        self.nRolls = 0\n",
    "    \n",
    "    def next(self) -> int:\n",
    "        self.currentVal = (self.currentVal + 1)\n",
    "        if self.currentVal == (self.maxVal + 1):\n",
    "            self.currentVal = self.initVal + 1\n",
    "\n",
    "        self.nRolls += 1\n",
    "        return self.currentVal\n",
    "\n",
    "class Player:\n",
    "    \"\"\"A player class\"\"\"\n",
    "    def __init__(self, pos : int, score : int = 0):\n",
    "        self.pos = pos\n",
    "        self.score = score\n",
    "\n",
    "    def update(self, rolls):\n",
    "        newPos = sum(rolls) + self.pos\n",
    "        \n",
    "        # Here we must take care of possible inputs like 30, 50, ... \n",
    "        # Those must be rounded to 10\n",
    "        if(newPos % 10 == 0):\n",
    "            newPos = 10\n",
    "        else:\n",
    "            newPos = newPos % 10\n",
    "        \n",
    "        self.pos = newPos\n",
    "        self.score += self.pos\n",
    "        return self.score\n",
    "\n",
    "    def __str__(self):\n",
    "        return f'pos: {self.pos}, score: {self.score}'\n",
    "\n",
    "def part1_compute(input: list[int]):\n",
    "    dice = Dice()\n",
    "    p1 = Player(pos = input[0])\n",
    "    p2 = Player(pos = input[1])\n",
    "    player = 1\n",
    "\n",
    "    while p1.score < 1000 and p2.score < 1000:\n",
    "        # Get three rolls\n",
    "        l = [1] * 3 \n",
    "        rolls = [dice.next() * elem for elem in l]\n",
    "                \n",
    "        if(player == 1):\n",
    "            p1.update(rolls)\n",
    "            # print(f'p1 rolls {rolls} and has new status : {p1}')\n",
    "            player = 2\n",
    "        else:\n",
    "            p2.update(rolls)\n",
    "            # print(f'p2 rolls {rolls} and has new status : {p2}')\n",
    "            player = 1\n",
    "    \n",
    "    return (min(p1.score, p2.score), dice.nRolls)\n",
    "\n",
    "# Let's forget about the above nonsense.\n",
    "def part1_compute_noFuss(pos: list[int]) -> int:\n",
    "    score = [0, 0]\n",
    "    die = 0\n",
    "    rolls = 0\n",
    "    while True:\n",
    "        turn = rolls & 1\n",
    "        roll = 3 * die + 6\n",
    "        die += 3 # no need to check for >100, the % 10 below does that\n",
    "        rolls += 3\n",
    "        pos[turn] = (pos[turn] + roll) % 10        \n",
    "        score[turn] += pos[turn] or 10 # if 0, then the result is 10\n",
    "        if score[turn] >= 1000:\n",
    "            break\n",
    "    return min(score) * rolls\n",
    "\n",
    "\n",
    "looser_pts, dice_rolls = part1_compute(SAMPLE)\n",
    "assert (looser_pts * dice_rolls) == 739785\n",
    "assert (part1_compute_noFuss(SAMPLE) == 739785)\n",
    "\n",
    "looser_pts, dice_rolls = part1_compute(INPUT)\n",
    "print(f'Result of part 1 : {looser_pts * dice_rolls}')\n",
    "assert (looser_pts * dice_rolls == part1_compute_noFuss(INPUT))"
   ]
  },
  {
   "cell_type": "code",
   "execution_count": 29,
   "metadata": {},
   "outputs": [
    {
     "data": {
      "text/plain": [
       "50"
      ]
     },
     "execution_count": 29,
     "metadata": {},
     "output_type": "execute_result"
    }
   ],
   "source": [
    "50 or 10"
   ]
  }
 ],
 "metadata": {
  "interpreter": {
   "hash": "916dbcbb3f70747c44a77c7bcd40155683ae19c65e1c03b4aa3499c5328201f1"
  },
  "kernelspec": {
   "display_name": "Python 3.8.5 64-bit",
   "language": "python",
   "name": "python3"
  },
  "language_info": {
   "codemirror_mode": {
    "name": "ipython",
    "version": 3
   },
   "file_extension": ".py",
   "mimetype": "text/x-python",
   "name": "python",
   "nbconvert_exporter": "python",
   "pygments_lexer": "ipython3",
   "version": "3.9.7"
  },
  "orig_nbformat": 4
 },
 "nbformat": 4,
 "nbformat_minor": 2
}
