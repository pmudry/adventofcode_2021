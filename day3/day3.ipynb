{
 "cells": [
  {
   "cell_type": "markdown",
   "metadata": {},
   "source": [
    "># Day 3 - Binary diagnostic\n",
    ">\n",
    ">The submarine has been making some odd creaking noises, so you ask it to produce a diagnostic report just in case.\n",
    ">\n",
    ">The diagnostic report (your puzzle input) consists of a list of binary numbers which, when decoded properly, can tell you many useful things about the conditions of the submarine. The first parameter to check is the power consumption.\n",
    ">\n",
    ">You need to use the binary numbers in the diagnostic report to generate two new binary numbers (called the gamma rate and the epsilon rate). The power consumption can then be found by multiplying the gamma rate by the epsilon rate.\n",
    ">\n",
    ">Each bit in the gamma rate can be determined by finding the most common bit in the corresponding position of all numbers in the diagnostic report. For example, given the following diagnostic report:\n",
    ">\n",
    ">```\n",
    ">00100\n",
    ">11110\n",
    ">10110\n",
    ">10111\n",
    ">10101\n",
    ">01111\n",
    ">00111\n",
    ">11100\n",
    ">10000\n",
    ">11001\n",
    ">00010\n",
    ">01010\n",
    ">```\n",
    ">\n",
    ">Considering only the first bit of each number, there are five 0 bits and seven 1 bits. Since the most common bit is 1, the first bit of the gamma rate is 1.\n",
    ">\n",
    ">The most common second bit of the numbers in the diagnostic report is 0, so the second bit of the gamma rate is 0.\n",
    ">\n",
    ">The most common value of the third, fourth, and fifth bits are 1, 1, and 0, respectively, and so the final three bits of the gamma rate are 110.\n",
    ">\n",
    ">So, the gamma rate is the binary number 10110, or 22 in decimal.\n",
    ">\n",
    ">The epsilon rate is calculated in a similar way; rather than use the most common bit, the least common bit from each position is used. So, the epsilon rate is 01001, or 9 in decimal. Multiplying the gamma rate (22) by the epsilon rate (9) produces the power consumption, 198.\n",
    ">\n",
    ">Use the binary numbers in your diagnostic report to calculate the gamma rate and epsilon rate, then multiply them together. What is the power consumption of the submarine? (Be sure to represent your answer in decimal, not binary.)"
   ]
  },
  {
   "cell_type": "code",
   "execution_count": 125,
   "metadata": {},
   "outputs": [
    {
     "data": {
      "text/html": [
       "<div>\n",
       "<style scoped>\n",
       "    .dataframe tbody tr th:only-of-type {\n",
       "        vertical-align: middle;\n",
       "    }\n",
       "\n",
       "    .dataframe tbody tr th {\n",
       "        vertical-align: top;\n",
       "    }\n",
       "\n",
       "    .dataframe thead th {\n",
       "        text-align: right;\n",
       "    }\n",
       "</style>\n",
       "<table border=\"1\" class=\"dataframe\">\n",
       "  <thead>\n",
       "    <tr style=\"text-align: right;\">\n",
       "      <th></th>\n",
       "      <th>Values</th>\n",
       "    </tr>\n",
       "  </thead>\n",
       "  <tbody>\n",
       "    <tr>\n",
       "      <th>0</th>\n",
       "      <td>101111101000</td>\n",
       "    </tr>\n",
       "    <tr>\n",
       "      <th>1</th>\n",
       "      <td>110110011100</td>\n",
       "    </tr>\n",
       "    <tr>\n",
       "      <th>2</th>\n",
       "      <td>10111111000</td>\n",
       "    </tr>\n",
       "    <tr>\n",
       "      <th>3</th>\n",
       "      <td>10101000001</td>\n",
       "    </tr>\n",
       "    <tr>\n",
       "      <th>4</th>\n",
       "      <td>11000000001</td>\n",
       "    </tr>\n",
       "  </tbody>\n",
       "</table>\n",
       "</div>"
      ],
      "text/plain": [
       "         Values\n",
       "0  101111101000\n",
       "1  110110011100\n",
       "2   10111111000\n",
       "3   10101000001\n",
       "4   11000000001"
      ]
     },
     "execution_count": 125,
     "metadata": {},
     "output_type": "execute_result"
    }
   ],
   "source": [
    "import pandas as pd\n",
    "import numpy as np\n",
    "import matplotlib.pyplot as plt\n",
    "\n",
    "df = pd.read_csv('input_day3.txt').astype(\"string\") # No numbers please, strings\n",
    "df.head()"
   ]
  },
  {
   "cell_type": "code",
   "execution_count": 156,
   "metadata": {},
   "outputs": [
    {
     "name": "stdout",
     "output_type": "stream",
     "text": [
      "['110110011100', '010111111000', '010101000001', '011000000001']\n"
     ]
    }
   ],
   "source": [
    "# Turns out the MSB's zeroes are not present, first correct that\n",
    "values = df['Values'].tolist()\n",
    "\n",
    "# Find the longest string with a comprehension\n",
    "longest = max((len(x) for x in values))\n",
    "\n",
    "# Add the required number of leading zeroes\n",
    "for i in range(len(values)):\n",
    "    length = len(values[i])\n",
    "    values[i] = (longest-length) * '0' + values[i]\n",
    "\n",
    "# Control that everything went correctly\n",
    "outliers = [x for x in values if len(x) != longest]\n",
    "assert len(outliers) == 0, f\"Oh no, some elements have not a size of {{longest}}\"\n",
    "\n",
    "print(values[1:5])"
   ]
  },
  {
   "cell_type": "code",
   "execution_count": 137,
   "metadata": {},
   "outputs": [],
   "source": [
    "# We can now get started with the job\n",
    "# Transpose a list of string\n",
    "def transpose(array):\n",
    "    res = []    \n",
    "    # Columns\n",
    "    for column in range(len(array[0])):\n",
    "        # Lines\n",
    "        tmp = []            \n",
    "        for ligne in range(len(array)):\n",
    "            tmp.append(array[ligne][column])\n",
    "\n",
    "        res.append(tmp)\n",
    "    return res\n",
    "\n",
    "#transposed = transpose(['111', '100', '101', '001'])\n",
    "transposed = transpose(values)"
   ]
  },
  {
   "cell_type": "code",
   "execution_count": 155,
   "metadata": {},
   "outputs": [
    {
     "name": "stdout",
     "output_type": "stream",
     "text": [
      "Gamma = 3811, epsilon = 284\n",
      "Product is 1082324\n"
     ]
    }
   ],
   "source": [
    "# Convert a list to a string\n",
    "def list2string(list):\n",
    "    return ''.join([elem for elem in list])\n",
    "\n",
    "# Get the prevalent one or zero from a list\n",
    "def mostPresent(x):    \n",
    "    ones = len([elem for elem in x if elem == '1'])\n",
    "    zeroes = len([elem for elem in x if elem == '0'])\n",
    "    assert (zeroes + ones) == len(x)\n",
    "    return '1' if ones > zeroes else '0'\n",
    "\n",
    "transposedAsString = [list2string(elem) for elem in transposed]\n",
    "mostPresentBits = [mostPresent(elem) for elem in transposedAsString]\n",
    "\n",
    "# Convert to a number epsilon\n",
    "epsilon = int(''.join([x for x in mostPresentBits]), 2)\n",
    "\n",
    "# Compute gamma as every bit inverted\n",
    "tmp = []\n",
    "for x in mostPresentBits:   \n",
    "    tmp.append('1' if x == '0' else '0')    \n",
    "\n",
    "# Convert to number\n",
    "gamma = int(''.join([x for x in tmp]), 2)\n",
    "\n",
    "print(f\"Gamma = {gamma}, epsilon = {epsilon}\")\n",
    "print(f\"Product is {gamma * epsilon}\")"
   ]
  },
  {
   "cell_type": "markdown",
   "metadata": {},
   "source": [
    "# Part Two\n",
    "\n",
    "Next, you should verify the **life support rating**, which can be determined by multiplying the **oxygen generator** rating by the **CO2 scrubber rating**.\n",
    "\n",
    "Both the oxygen generator rating and the CO2 scrubber rating are values that can be found in your diagnostic report - finding them is the tricky part. Both values are located using a similar process that involves filtering out values until only one remains. Before searching for either rating value, start with the full list of binary numbers from your diagnostic report and **consider just the first bit** of those numbers. Then:\n",
    "\n",
    "- Keep only numbers selected by the bit criteria for the type of rating value for which you are searching. Discard numbers which do not match the bit criteria.\n",
    "- If you only have one number left, stop; this is the rating value for which you are searching.\n",
    "- Otherwise, repeat the process, considering the next bit to the right.\n",
    "\n",
    "\n",
    "The bit criteria depends on which type of rating value you want to find:\n",
    "\n",
    "- To find oxygen generator rating, determine the most common value (0 or 1) in the current bit position, and keep only numbers with that bit in that position. If 0 and 1 are equally common, keep values with a 1 in the position being considered.\n",
    "- To find CO2 scrubber rating, determine the least common value (0 or 1) in the current bit position, and keep only numbers with that bit in that position. If 0 and 1 are equally common, keep values with a 0 in the position being considered.\n",
    "\n",
    "For example, to determine the **oxygen generator rating** value using the same example diagnostic report from above:\n",
    "\n",
    "- Start with all 12 numbers and consider only the first bit of each number. There are more 1 bits (7) than 0 bits (5), so keep only the 7 numbers with a 1 in the first position: 11110, 10110, 10111, 10101, 11100, 10000, and 11001.\n",
    "- Then, consider the second bit of the 7 remaining numbers: there are more 0 bits (4) than 1 bits (3), so keep only the 4 numbers with a 0 in the second position: 10110, 10111, 10101, and 10000.\n",
    "- In the third position, three of the four numbers have a 1, so keep those three: 10110, 10111, and 10101.\n",
    "- In the fourth position, two of the three numbers have a 1, so keep those two: 10110 and 10111.\n",
    "- In the fifth position, there are an equal number of 0 bits and 1 bits (one each). So, to find the oxygen generator rating, keep the number with a 1 in that position: 10111.\n",
    "- As there is only one number left, stop; the oxygen generator rating is 10111, or 23 in decimal.\n",
    "\n",
    "Then, to determine the **CO2 scrubber rating**  value from the same example above:\n",
    "\n",
    "- Start again with all 12 numbers and consider only the first bit of each number. There are fewer 0 bits (5) than 1 bits (7), so keep only the 5 numbers with a 0 in the first position: 00100, 01111, 00111, 00010, and 01010.\n",
    "- Then, consider the second bit of the 5 remaining numbers: there are fewer 1 bits (2) than 0 bits (3), so keep only the 2 numbers with a 1 in the second position: 01111 and 01010.\n",
    "- In the third position, there are an equal number of 0 bits and 1 bits (one each). So, to find the CO2 scrubber rating, keep the number with a 0 in that position: 01010.\n",
    "- As there is only one number left, stop; the CO2 scrubber rating is 01010, or 10 in decimal.\n",
    "\n",
    "Finally, to find the life support rating, multiply the oxygen generator rating (23) by the CO2 scrubber rating (10) to get 230.\n",
    "\n",
    "Use the binary numbers in your diagnostic report to calculate the oxygen generator rating and CO2 scrubber rating, then multiply them together. **What is the life support rating of the submarine?** (Be sure to represent your answer in decimal, not binary.)"
   ]
  }
 ],
 "metadata": {
  "interpreter": {
   "hash": "e44b2979406394fc03848afa59efd3f0817add3a48155423202967fc07710fe0"
  },
  "kernelspec": {
   "display_name": "Python 3.9.5 64-bit ('base': conda)",
   "language": "python",
   "name": "python3"
  },
  "language_info": {
   "codemirror_mode": {
    "name": "ipython",
    "version": 3
   },
   "file_extension": ".py",
   "mimetype": "text/x-python",
   "name": "python",
   "nbconvert_exporter": "python",
   "pygments_lexer": "ipython3",
   "version": "3.9.5"
  },
  "orig_nbformat": 4
 },
 "nbformat": 4,
 "nbformat_minor": 2
}
