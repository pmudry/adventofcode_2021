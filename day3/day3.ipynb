{
 "cells": [
  {
   "cell_type": "markdown",
   "metadata": {},
   "source": [
    "># Day 3 - Binary diagnostic\n",
    ">\n",
    ">The submarine has been making some odd creaking noises, so you ask it to produce a diagnostic report just in case.\n",
    ">\n",
    ">The diagnostic report (your puzzle input) consists of a list of binary numbers which, when decoded properly, can tell you many useful things about the conditions of the submarine. The first parameter to check is the power consumption.\n",
    ">\n",
    ">You need to use the binary numbers in the diagnostic report to generate two new binary numbers (called the gamma rate and the epsilon rate). The power consumption can then be found by multiplying the gamma rate by the epsilon rate.\n",
    ">\n",
    ">Each bit in the gamma rate can be determined by finding the most common bit in the corresponding position of all numbers in the diagnostic report. For example, given the following diagnostic report:\n",
    ">\n",
    ">```\n",
    ">00100\n",
    ">11110\n",
    ">10110\n",
    ">10111\n",
    ">10101\n",
    ">01111\n",
    ">00111\n",
    ">11100\n",
    ">10000\n",
    ">11001\n",
    ">00010\n",
    ">01010\n",
    ">```\n",
    ">\n",
    ">Considering only the first bit of each number, there are five 0 bits and seven 1 bits. Since the most common bit is 1, the first bit of the gamma rate is 1.\n",
    ">\n",
    ">The most common second bit of the numbers in the diagnostic report is 0, so the second bit of the gamma rate is 0.\n",
    ">\n",
    ">The most common value of the third, fourth, and fifth bits are 1, 1, and 0, respectively, and so the final three bits of the gamma rate are 110.\n",
    ">\n",
    ">So, the gamma rate is the binary number 10110, or 22 in decimal.\n",
    ">\n",
    ">The epsilon rate is calculated in a similar way; rather than use the most common bit, the least common bit from each position is used. So, the epsilon rate is 01001, or 9 in decimal. Multiplying the gamma rate (22) by the epsilon rate (9) produces the power consumption, 198.\n",
    ">\n",
    ">Use the binary numbers in your diagnostic report to calculate the gamma rate and epsilon rate, then multiply them together. What is the power consumption of the submarine? (Be sure to represent your answer in decimal, not binary.)"
   ]
  },
  {
   "cell_type": "code",
   "execution_count": 125,
   "metadata": {},
   "outputs": [
    {
     "data": {
      "text/html": [
       "<div>\n",
       "<style scoped>\n",
       "    .dataframe tbody tr th:only-of-type {\n",
       "        vertical-align: middle;\n",
       "    }\n",
       "\n",
       "    .dataframe tbody tr th {\n",
       "        vertical-align: top;\n",
       "    }\n",
       "\n",
       "    .dataframe thead th {\n",
       "        text-align: right;\n",
       "    }\n",
       "</style>\n",
       "<table border=\"1\" class=\"dataframe\">\n",
       "  <thead>\n",
       "    <tr style=\"text-align: right;\">\n",
       "      <th></th>\n",
       "      <th>Values</th>\n",
       "    </tr>\n",
       "  </thead>\n",
       "  <tbody>\n",
       "    <tr>\n",
       "      <th>0</th>\n",
       "      <td>101111101000</td>\n",
       "    </tr>\n",
       "    <tr>\n",
       "      <th>1</th>\n",
       "      <td>110110011100</td>\n",
       "    </tr>\n",
       "    <tr>\n",
       "      <th>2</th>\n",
       "      <td>10111111000</td>\n",
       "    </tr>\n",
       "    <tr>\n",
       "      <th>3</th>\n",
       "      <td>10101000001</td>\n",
       "    </tr>\n",
       "    <tr>\n",
       "      <th>4</th>\n",
       "      <td>11000000001</td>\n",
       "    </tr>\n",
       "  </tbody>\n",
       "</table>\n",
       "</div>"
      ],
      "text/plain": [
       "         Values\n",
       "0  101111101000\n",
       "1  110110011100\n",
       "2   10111111000\n",
       "3   10101000001\n",
       "4   11000000001"
      ]
     },
     "execution_count": 125,
     "metadata": {},
     "output_type": "execute_result"
    }
   ],
   "source": [
    "import pandas as pd\n",
    "import numpy as np\n",
    "import matplotlib.pyplot as plt\n",
    "\n",
    "df = pd.read_csv('input_day3.txt').astype(\"string\") # No numbers please, strings\n",
    "df.head()"
   ]
  },
  {
   "cell_type": "code",
   "execution_count": 126,
   "metadata": {},
   "outputs": [],
   "source": [
    "# Turns out the MSB's zeroes are not present, first correct that\n",
    "values = df['Values'].tolist()\n",
    "\n",
    "# Find the longest string with a comprehension\n",
    "longest = max((len(x) for x in values))\n",
    "\n",
    "# Add the required number of leading zeroes\n",
    "for i in range(len(values)):\n",
    "    length = len(values[i])\n",
    "    values[i] = (longest-length) * '0' + values[i]\n",
    "\n",
    "# Control that everything went correctly\n",
    "outliers = [x for x in values if len(x) != longest]\n",
    "assert len(outliers) == 0, f\"Oh no, some elements have not a size of {{longest}}\""
   ]
  },
  {
   "cell_type": "code",
   "execution_count": 137,
   "metadata": {},
   "outputs": [],
   "source": [
    "# We can now get started with the job\n",
    "# Transpose a list of string\n",
    "def transpose(array):\n",
    "    res = []    \n",
    "    # Columns\n",
    "    for column in range(len(array[0])):\n",
    "        # Lines\n",
    "        tmp = []            \n",
    "        for ligne in range(len(array)):\n",
    "            tmp.append(array[ligne][column])\n",
    "\n",
    "        res.append(tmp)\n",
    "    return res\n",
    "\n",
    "#transposed = transpose(['111', '100', '101', '001'])\n",
    "transposed = transpose(values)"
   ]
  },
  {
   "cell_type": "code",
   "execution_count": 155,
   "metadata": {},
   "outputs": [
    {
     "name": "stdout",
     "output_type": "stream",
     "text": [
      "Gamma = 3811, epsilon = 284\n",
      "Product is 1082324\n"
     ]
    }
   ],
   "source": [
    "# Convert a list to a string\n",
    "def list2string(list):\n",
    "    return ''.join([elem for elem in list])\n",
    "\n",
    "# Get the prevalent one or zero from a list\n",
    "def mostPresent(x):    \n",
    "    ones = len([elem for elem in x if elem == '1'])\n",
    "    zeroes = len([elem for elem in x if elem == '0'])\n",
    "    assert (zeroes + ones) == len(x)\n",
    "    return '1' if ones > zeroes else '0'\n",
    "\n",
    "transposedAsString = [list2string(elem) for elem in transposed]\n",
    "mostPresentBits = [mostPresent(elem) for elem in transposedAsString]\n",
    "\n",
    "# Convert to a number epsilon\n",
    "epsilon = int(''.join([x for x in mostPresentBits]), 2)\n",
    "\n",
    "# Compute gamma as every bit inverted\n",
    "tmp = []\n",
    "for x in mostPresentBits:   \n",
    "    tmp.append('1' if x == '0' else '0')    \n",
    "\n",
    "# Convert to number\n",
    "gamma = int(''.join([x for x in tmp]), 2)\n",
    "\n",
    "print(f\"Gamma = {gamma}, epsilon = {epsilon}\")\n",
    "print(f\"Product is {gamma * epsilon}\")"
   ]
  },
  {
   "cell_type": "code",
   "execution_count": null,
   "metadata": {},
   "outputs": [],
   "source": []
  }
 ],
 "metadata": {
  "interpreter": {
   "hash": "e44b2979406394fc03848afa59efd3f0817add3a48155423202967fc07710fe0"
  },
  "kernelspec": {
   "display_name": "Python 3.9.5 64-bit ('base': conda)",
   "language": "python",
   "name": "python3"
  },
  "language_info": {
   "codemirror_mode": {
    "name": "ipython",
    "version": 3
   },
   "file_extension": ".py",
   "mimetype": "text/x-python",
   "name": "python",
   "nbconvert_exporter": "python",
   "pygments_lexer": "ipython3",
   "version": "3.9.5"
  },
  "orig_nbformat": 4
 },
 "nbformat": 4,
 "nbformat_minor": 2
}
