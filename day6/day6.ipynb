{
 "cells": [
  {
   "cell_type": "markdown",
   "metadata": {},
   "source": [
    "# Day 6 - Lanternfish\n",
    "from [AdventOfCode website](https://adventofcode.com/2021])\n",
    "\n",
    "The sea floor is getting steeper. Maybe the sleigh keys got carried this way?\n",
    "\n",
    "A massive school of glowing lanternfish swims past. They must spawn quickly to reach such large numbers - maybe **exponentially** quickly? You should model their growth rate to be sure.\n",
    "\n",
    "Although you know nothing about this specific species of lanternfish, you make some guesses about their attributes. Surely, each lanternfish creates a new lanternfish once every 7 days.\n",
    "\n",
    "However, this process isn't necessarily synchronized between every lanternfish - one lanternfish might have 2 days left until it creates another lanternfish, while another might have 4. So, you can model each fish as a single number that represents **the number of days until it creates a new lanternfish**.\n",
    "\n",
    "Furthermore, you reason, a **new** lanternfish would surely need slightly longer before it's capable of producing more lanternfish: two more days for its first cycle.\n",
    "\n",
    "So, suppose you have a lanternfish with an internal timer value of 3:\n",
    "\n",
    "- After one day, its internal timer would become 2.\n",
    "- After another day, its internal timer would become 1.\n",
    "- After another day, its internal timer would become 0.\n",
    "- After another day, its internal timer would reset to 6, and it would create a new lanternfish with an internal timer of 8.\n",
    "- After another day, the first lanternfish would have an internal timer of 5, and the second lanternfish would have an internal timer of 7.\n",
    "\n",
    "A lanternfish that creates a new fish resets its timer to 6, not 7 (because 0 is included as a valid timer value). The new lanternfish starts with an internal timer of 8 and does not start counting down until the next day.\n",
    "\n",
    "Realizing what you're trying to do, the submarine automatically produces a list of the ages of several hundred nearby lanternfish (your puzzle input). For example, suppose you were given the following list:\n",
    "\n",
    "```\n",
    "3,4,3,1,2\n",
    "```\n",
    "\n",
    "This list means that the first fish has an internal timer of 3, the second fish has an internal timer of 4, and so on until the fifth fish, which has an internal timer of 2. Simulating these fish over several days would proceed as follows:\n",
    "\n",
    "```\n",
    "Initial state: 3,4,3,1,2\n",
    "After  1 day:  2,3,2,0,1\n",
    "After  2 days: 1,2,1,6,0,8\n",
    "After  3 days: 0,1,0,5,6,7,8\n",
    "After  4 days: 6,0,6,4,5,6,7,8,8\n",
    "After  5 days: 5,6,5,3,4,5,6,7,7,8\n",
    "After  6 days: 4,5,4,2,3,4,5,6,6,7\n",
    "After  7 days: 3,4,3,1,2,3,4,5,5,6\n",
    "After  8 days: 2,3,2,0,1,2,3,4,4,5\n",
    "After  9 days: 1,2,1,6,0,1,2,3,3,4,8\n",
    "After 10 days: 0,1,0,5,6,0,1,2,2,3,7,8\n",
    "After 11 days: 6,0,6,4,5,6,0,1,1,2,6,7,8,8,8\n",
    "After 12 days: 5,6,5,3,4,5,6,0,0,1,5,6,7,7,7,8,8\n",
    "After 13 days: 4,5,4,2,3,4,5,6,6,0,4,5,6,6,6,7,7,8,8\n",
    "After 14 days: 3,4,3,1,2,3,4,5,5,6,3,4,5,5,5,6,6,7,7,8\n",
    "After 15 days: 2,3,2,0,1,2,3,4,4,5,2,3,4,4,4,5,5,6,6,7\n",
    "After 16 days: 1,2,1,6,0,1,2,3,3,4,1,2,3,3,3,4,4,5,5,6,8\n",
    "After 17 days: 0,1,0,5,6,0,1,2,2,3,0,1,2,2,2,3,3,4,4,5,7,8\n",
    "After 18 days: 6,0,6,4,5,6,0,1,1,2,6,0,1,1,1,2,2,3,3,4,6,7,8,8,8,8\n",
    "```\n",
    "\n",
    "Each day, a 0 becomes a 6 and adds a new 8 to the end of the list, while each other number decreases by 1 if it was present at the start of the day.\n",
    "\n",
    "In this example, after 18 days, there are a total of 26 fish. After 80 days, there would be a total of 5934.\n",
    "\n",
    "Find a way to simulate lanternfish. How many lanternfish would there be after 80 days?"
   ]
  },
  {
   "cell_type": "code",
   "execution_count": 58,
   "metadata": {},
   "outputs": [],
   "source": [
    "# Parsing the file as always\n",
    "import pandas as pd\n",
    "import re\n",
    "\n",
    "initial_state = [3,4,3,1,2]\n",
    "\n",
    "def parse_raw_data(raw_data):\n",
    "    l = []\n",
    "    for match in re.findall(r\"\\d+\", raw_data):\n",
    "        l.append(int(match))\n",
    "    return l\n",
    "\n",
    "with open(\"input_day6.txt\") as fp:\n",
    "    lines = fp.read()\n",
    "    initial_state = parse_raw_data(lines)"
   ]
  },
  {
   "cell_type": "code",
   "execution_count": 59,
   "metadata": {},
   "outputs": [
    {
     "name": "stdout",
     "output_type": "stream",
     "text": [
      "5,1,1,5,4,2,1,2,1,2,2,1,1,1,4,2,2,4,1,1,1,1,1,4,1,1,1,1,1,5,3,1,4,1,1,1,1,1,4,1,5,1,1,1,4,1,2,2,3,1,5,1,1,5,1,1,5,4,1,1,1,4,3,1,1,1,3,1,5,5,1,1,1,1,5,3,2,1,2,3,1,5,1,1,4,1,1,2,1,5,1,1,1,1,5,4,5,1,3,1,3,3,5,5,1,3,1,5,3,1,1,4,2,3,3,1,2,4,1,1,1,1,1,1,1,2,1,1,4,1,3,2,5,2,1,1,1,4,2,1,1,1,4,2,4,1,1,1,1,4,1,3,5,5,1,2,1,3,1,1,4,1,1,1,1,2,1,1,4,2,3,1,1,1,1,1,1,1,4,5,1,1,3,1,1,2,1,1,1,5,1,1,1,1,1,3,2,1,2,4,5,1,5,4,1,1,3,1,1,5,5,1,3,1,1,1,1,4,4,2,1,2,1,1,5,1,1,4,5,1,1,1,1,1,1,1,1,1,1,3,1,1,1,1,1,4,2,1,1,1,2,5,1,4,1,1,1,4,1,1,5,4,4,3,1,1,4,5,1,1,3,5,3,1,2,5,3,4,1,3,5,4,1,3,1,5,1,4,1,1,4,2,1,1,1,3,2,1,1,4\n"
     ]
    }
   ],
   "source": [
    "# Let's over engineer this part with lots of classes and stuff, because we can\n",
    "\n",
    "class Fish:\n",
    "    def __init__(self, timer_start):\n",
    "        self.timer = timer_start\n",
    "    \n",
    "    def step(self, fishes):\n",
    "        if(self.timer == 0):\n",
    "            self.timer = 6\n",
    "            fishes.toAppend.append(Fish(8))\n",
    "        else:\n",
    "            self.timer -= 1\n",
    "\n",
    "    def __str__(self):\n",
    "        return str(self.timer)\n",
    "\n",
    "\n",
    "class School:    \n",
    "    def __init__(self ):\n",
    "        self.__s = []\n",
    "        self.toAppend = []\n",
    "\n",
    "    # Factory method\n",
    "    @classmethod\n",
    "    def create_initial(cls, list):\n",
    "        fishes = cls()\n",
    "        for f in list: \n",
    "            fishes.__s.append(Fish(f))\n",
    "        return fishes\n",
    "    \n",
    "    def nFishes(self): return len(self.__s)\n",
    "\n",
    "    def day_gone(self):\n",
    "        for f in self.__s:\n",
    "            f.step(self)\n",
    "        self.__s += self.toAppend\n",
    "        self.toAppend = []\n",
    "\n",
    "    def __str__(self):\n",
    "        return ','.join(map(str, self.__s))\n",
    "\n",
    "fishes = School.create_initial(initial_state)\n",
    "\n",
    "print(fishes)"
   ]
  },
  {
   "cell_type": "markdown",
   "metadata": {},
   "source": [
    "With the classes and data loaded, we can now run our crappy algorithm which is nice from a code perspective but terrible in performance"
   ]
  },
  {
   "cell_type": "code",
   "execution_count": 60,
   "metadata": {},
   "outputs": [
    {
     "name": "stdout",
     "output_type": "stream",
     "text": [
      "Time for finding part 1 was 0:00:01.070053\n",
      "Solution of part 1 is 377263\n"
     ]
    }
   ],
   "source": [
    "# Let's runt the code\n",
    "from datetime import datetime\n",
    "\n",
    "start = datetime.now()\n",
    "\n",
    "for i in range(80):    \n",
    "    fishes.day_gone()\n",
    "\n",
    "end = datetime.now()\n",
    "diff = end-start\n",
    "\n",
    "print(f'Time for finding part 1 was {diff}')            \n",
    "print(f'Solution of part 1 is {fishes.nFishes()}')"
   ]
  },
  {
   "cell_type": "markdown",
   "metadata": {},
   "source": [
    "# Part 2\n",
    "The first part was done using a nice OO solution mainly used for the sake of using OO with Python once. However, performance is terrible as more days have to be simulated because growth is quadratic at least (which can be seen in the graph)\n",
    "\n",
    "## Why isn't working wih the solution from point 1?\n",
    "With the above implementation, runtime and memory both grows exponentially and it is not feasible. We have lists to append, objects to create etc... The size of the list (using mainly for storing) soons becomes impossible to manage and the solution will not be found in a reasonable time or with reasonable memory.\n",
    "\n",
    "Let's implement it differently by only storing the number of fishes at each age and work on that. It is important to note that we actually **don't care about the fishes' position**, but only **age**. \n",
    "\n",
    "With that in mind, let's see how it's done with the simple example from above. With the initial state `[3,4,3,1,2]` we have 2 fishes with age 3, 1 fish with age 4 / 2 / 1. We can represent it like this:\n",
    "\n",
    "``` \n",
    "[0 1 1 2 1 0 0 0 0 0]\n",
    "```\n",
    "\n",
    "Where position 0 corresponds to the number of fishes at age 0, position 1 corresponds to the fishes at age 1 etc... until age 9. Even though we never have fish that old, it will be used in the algorithm. \n",
    "\n",
    "Each day we have to \n",
    "    - Get the number of fishes that will create a new fishes.\n",
    "    - Add this values to age 9 (for new fishes) \n",
    "    - Add the same value to fishes with age age 7 (as their counter is reset to 7).\n",
    "    - Shift every age to the left as the day has passed. As a result, all the fishes at age 0 disappear, newly created fishes have age 8 and fishes that just had babies have age 6\n",
    "\n",
    "This solution is very fast and does not consume memory. Of course, it also works for part 1 and the basic example as well."
   ]
  },
  {
   "cell_type": "code",
   "execution_count": 61,
   "metadata": {},
   "outputs": [
    {
     "name": "stdout",
     "output_type": "stream",
     "text": [
      "[  0 168  31  29  37  35   0   0   0   0]\n",
      "Solution from task 2 is 1695929023803\n"
     ]
    },
    {
     "data": {
      "text/plain": [
       "Text(0.5, 1.0, 'Fishes in the sea')"
      ]
     },
     "execution_count": 61,
     "metadata": {},
     "output_type": "execute_result"
    },
    {
     "data": {
      "image/png": "[encoded data removed]",
      "text/plain": [
       "<Figure size 864x864 with 1 Axes>"
      ]
     },
     "metadata": {},
     "output_type": "display_data"
    }
   ],
   "source": [
    "import numpy as np\n",
    "import matplotlib as mp\n",
    "from scipy.ndimage.interpolation import shift\n",
    "\n",
    "# Each colum corresponds to an age\n",
    "# initial_state = [3,4,3,1,2]\n",
    "\n",
    "# Index 9 is used only for shifting\n",
    "school = np.zeros(10, dtype=np.int64)\n",
    "\n",
    "for n in range(10):\n",
    "    ns = initial_state.count(n)\n",
    "    school[n] = ns\n",
    "\n",
    "nElems = []\n",
    "\n",
    "def step_day(n_days, school):\n",
    "    for i in range(n_days):\n",
    "        give_birth = school[0]\n",
    "        school[7] += give_birth\n",
    "        school[9] = give_birth\n",
    "        school = shift(school, -1, cval=0)\n",
    "        nElems.append(school.sum())\n",
    "        # Not used but so cool !\n",
    "        # Replaces all negative values with 0\n",
    "        # school[school < 0] = 0\n",
    "    return school\n",
    "        \n",
    "print(school)\n",
    "school = step_day(256, school)\n",
    "print(f'Solution from task 2 is {school.sum()}')\n",
    "\n",
    "import matplotlib.pyplot as plt\n",
    "plt.style.use('seaborn-white')\n",
    "plt.figure(figsize=(12, 12))\n",
    "plt.plot(nElems)\n",
    "plt.xlabel('Iterations')\n",
    "plt.ylabel('# Fishes')\n",
    "plt.title(\"Fishes in the sea\")"
   ]
  }
 ],
 "metadata": {
  "interpreter": {
   "hash": "e44b2979406394fc03848afa59efd3f0817add3a48155423202967fc07710fe0"
  },
  "kernelspec": {
   "display_name": "Python 3.9.5 64-bit ('base': conda)",
   "language": "python",
   "name": "python3"
  },
  "language_info": {
   "codemirror_mode": {
    "name": "ipython",
    "version": 3
   },
   "file_extension": ".py",
   "mimetype": "text/x-python",
   "name": "python",
   "nbconvert_exporter": "python",
   "pygments_lexer": "ipython3",
   "version": "3.9.5"
  },
  "orig_nbformat": 4
 },
 "nbformat": 4,
 "nbformat_minor": 2
}
