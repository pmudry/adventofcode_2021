{
 "cells": [
  {
   "cell_type": "markdown",
   "metadata": {},
   "source": [
    "# Day 7: The Treachery of Whales\n",
    "from [AdventOfCode website](https://adventofcode.com/2021])\n",
    "\n",
    "> A giant whale has decided your submarine is its next meal, and it's much faster than you are. There's nowhere to run!\n",
    "> \n",
    "> Suddenly, a swarm of crabs (each in its own tiny submarine - it's too deep for them otherwise) zooms in to rescue you! They seem to be preparing to blast a hole in the ocean floor; sensors indicate a massive underground cave system just beyond where they're aiming!\n",
    "> \n",
    "> The crab submarines all need to be aligned before they'll have enough power to blast a large enough hole for your submarine to get through. However, it doesn't look like they'll be aligned before the whale catches you! Maybe you can help?\n",
    "> \n",
    "> There's one major catch - crab submarines can only move horizontally.\n",
    "> \n",
    "> You quickly make a list of the horizontal position of each crab (your puzzle input). Crab submarines have limited fuel, so you need to find a way to make all of their horizontal positions match while requiring them to spend as little fuel as possible.\n",
    "> \n",
    "> For example, consider the following horizontal positions:\n",
    "> \n",
    "> `16,1,2,0,4,2,7,1,2,14`\n",
    "> \n",
    "> This means there's a crab with horizontal position 16, a crab with horizontal position 1, and so on.\n",
    "> \n",
    "> Each change of 1 step in horizontal position of a single crab costs 1 fuel. You could choose any horizontal position to align them all on, but the one that costs the least fuel is horizontal position 2:\n",
    "> \n",
    "> ```\n",
    "> Move from 16 to 2: 14 fuel\n",
    "> Move from 1 to 2: 1 fuel\n",
    "> Move from 2 to 2: 0 fuel\n",
    "> Move from 0 to 2: 2 fuel\n",
    "> Move from 4 to 2: 2 fuel\n",
    "> Move from 2 to 2: 0 fuel\n",
    "> Move from 7 to 2: 5 fuel\n",
    "> Move from 1 to 2: 1 fuel\n",
    "> Move from 2 to 2: 0 fuel\n",
    "> Move from 14 to 2: 12 fuel\n",
    "> ```\n",
    "> \n",
    "> This costs a total of **37** fuel. This is the cheapest possible outcome; more expensive outcomes include aligning at position 1 (41 fuel), position 3 (39 fuel), or position 10 (71 fuel).\n",
    "> \n",
    "> Determine the horizontal position that the crabs can align to using the least fuel possible. **How much fuel must they spend to align to that position?**"
   ]
  },
  {
   "cell_type": "markdown",
   "metadata": {},
   "source": [
    "## Remarks about the implementation\n",
    "This one is probably one of the easiest problem, at least for part 1.\n",
    "Part 2 is easy as well as long as you know you maths."
   ]
  },
  {
   "cell_type": "code",
   "execution_count": 22,
   "metadata": {},
   "outputs": [],
   "source": [
    "# Parsing the file as always\n",
    "import pandas as pd\n",
    "import re\n",
    "\n",
    "# Simple example\n",
    "ex_positions = [16,1,2,0,4,2,7,1,2,14]\n",
    "\n",
    "# Full data\n",
    "positions = []\n",
    "\n",
    "def parse_raw_data(raw_data):\n",
    "    l = []\n",
    "    for match in re.findall(r\"\\d+\", raw_data):\n",
    "        l.append(int(match))\n",
    "    return l\n",
    "\n",
    "with open(\"input_day7.txt\") as fp:\n",
    "    lines = fp.read()\n",
    "    positions = parse_raw_data(lines)"
   ]
  },
  {
   "cell_type": "code",
   "execution_count": 23,
   "metadata": {},
   "outputs": [
    {
     "data": {
      "text/plain": [
       "343605"
      ]
     },
     "execution_count": 23,
     "metadata": {},
     "output_type": "execute_result"
    }
   ],
   "source": [
    "def compute_fuel_to(final, positions):\n",
    "    sum = 0\n",
    "    for p in positions:\n",
    "        sum += abs(p - final)\n",
    "    return sum\n",
    "\n",
    "def find_min(positions, fun):\n",
    "    distances = []\n",
    "    for i in range(len(positions)):\n",
    "        cost = fun(i, positions)\n",
    "        distances.append(cost)\n",
    "    return min(distances)\n",
    "\n",
    "#compute_fuel_to(2, positions)\n",
    "find_min(positions, compute_fuel_to)"
   ]
  },
  {
   "cell_type": "code",
   "execution_count": 24,
   "metadata": {},
   "outputs": [
    {
     "data": {
      "text/plain": [
       "96744904"
      ]
     },
     "execution_count": 24,
     "metadata": {},
     "output_type": "execute_result"
    }
   ],
   "source": [
    "def compute_fuel_to_part2(final, positions):\n",
    "    sum = 0\n",
    "    for p in positions:\n",
    "        n = abs(p - final)        \n",
    "        sum += (n * (n + 1)) / 2 # Hey, look ! The triangular number\n",
    "    return sum\n",
    "\n",
    "int(find_min(positions, compute_fuel_to_part2))"
   ]
  }
 ],
 "metadata": {
  "interpreter": {
   "hash": "e44b2979406394fc03848afa59efd3f0817add3a48155423202967fc07710fe0"
  },
  "kernelspec": {
   "display_name": "Python 3.9.5 64-bit ('base': conda)",
   "language": "python",
   "name": "python3"
  },
  "language_info": {
   "codemirror_mode": {
    "name": "ipython",
    "version": 3
   },
   "file_extension": ".py",
   "mimetype": "text/x-python",
   "name": "python",
   "nbconvert_exporter": "python",
   "pygments_lexer": "ipython3",
   "version": "3.9.5"
  },
  "orig_nbformat": 4
 },
 "nbformat": 4,
 "nbformat_minor": 2
}
