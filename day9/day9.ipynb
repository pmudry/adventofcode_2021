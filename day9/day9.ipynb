{
 "cells": [
  {
   "cell_type": "markdown",
   "metadata": {},
   "source": [
    "# Day 9: Smoke Basin \n",
    "from [AdventOfCode website](https://adventofcode.com/2021])\n",
    "\n",
    "> These caves seem to be lava tubes. Parts are even still volcanically active; small hydrothermal vents release smoke into the caves that slowly settles like rain.\n",
    "> \n",
    "> If you can model how the smoke flows through the caves, you might be able to avoid it and be that much safer. The submarine generates a heightmap of the floor of the nearby caves for you (your puzzle input).\n",
    "> \n",
    "> Smoke flows to the lowest point of the area it's in. For example, consider the following heightmap:\n",
    "> \n",
    "> ```\n",
    "> 2199943210\n",
    "> 3987894921\n",
    "> 9856789892\n",
    "> 8767896789\n",
    "> 9899965678\n",
    "> ```\n",
    "> \n",
    "> Each number corresponds to the height of a particular location, where 9 is the highest and 0 is the lowest a location can be.\n",
    "> \n",
    "> Your first goal is to find the **low points** - the locations that are lower than any of its adjacent locations. Most locations have four adjacent locations (up, down, left, and right); locations on the edge or corner of the map have three or two adjacent locations, respectively. (Diagonal locations do not count as adjacent.)\n",
    "> \n",
    "> In the above example, there are **four** low points, all highlighted: two are in the first row (a 1 and a 0), one is in the third row (a 5), and one is in the bottom row (also a 5). All other locations on the heightmap have some lower adjacent location, and so are not low points.\n",
    "> \n",
    "> The risk level of a low point is **1 plus its height**. In the above example, the risk levels of the low points are 2, 1, 6, and 6. The sum of the risk levels of all low points in the heightmap is therefore **15**.\n",
    "> \n",
    "> Find all of the low points on your heightmap. What is the sum of the risk levels of all low points on your heightmap?"
   ]
  },
  {
   "cell_type": "code",
   "execution_count": 180,
   "metadata": {},
   "outputs": [
    {
     "name": "stdout",
     "output_type": "stream",
     "text": [
      "Original values\n",
      "[[2 1 9 9 9 4 3 2 1 0]\n",
      " [3 9 8 7 8 9 4 9 2 1]\n",
      " [9 8 5 6 7 8 9 8 9 2]\n",
      " [8 7 6 7 8 9 6 7 8 9]\n",
      " [9 8 9 9 9 6 5 6 7 8]]\n",
      "\n"
     ]
    },
    {
     "data": {
      "text/plain": [
       "<matplotlib.image.AxesImage at 0x7fae1b1b3f70>"
      ]
     },
     "execution_count": 180,
     "metadata": {},
     "output_type": "execute_result"
    },
    {
     "data": {
      "image/png": "[encoded data removed]",
      "text/plain": [
       "<Figure size 1080x1080 with 1 Axes>"
      ]
     },
     "metadata": {},
     "output_type": "display_data"
    }
   ],
   "source": [
    "from functools import reduce\n",
    "from collections import Counter\n",
    "import numpy as np\n",
    "\n",
    "def disp(message, val):\n",
    "    print(f'{message}\\n{val}\\n')\n",
    "\n",
    "# Read 1 char as a single value\n",
    "values_m = np.genfromtxt('input_day9_sample.txt', delimiter=1, dtype=np.uint8)\n",
    "disp('Original values', values_m)\n",
    "\n",
    "# Padding is not required using kernel but let here as it is cool\n",
    "#values_m = np.pad(values_m, pad_width=1, constant_values=10)\n",
    "#disp('Padded values', values_m)\n",
    "\n",
    "import matplotlib.pyplot as plt\n",
    "from mpl_toolkits.mplot3d import Axes3D\n",
    "\n",
    "plt.figure(figsize = (15,15))\n",
    "plt.tick_params(axis='both', colors='gray')\n",
    "plt.style.use('dark_background')\n",
    "plt.imshow(values_m, vmin=abs(values_m).min(), vmax=abs(values_m).max(), origin='lower', cmap='magma', interpolation='antialiased')"
   ]
  },
  {
   "cell_type": "markdown",
   "metadata": {},
   "source": [
    "## Solution using scipy\n",
    "The idea is to use `scipy.ndimage` which can apply an image filter (here `minimum_filter`) using a configurable kernel applied to each cell \n",
    "\n",
    "The kernel is a von Neumann neighborhood:\n",
    "```\n",
    "[[0, 1, 0]\n",
    " [1, 0, 1]\n",
    " [0, 1, 0]]\n",
    "```\n",
    "\n",
    "The filter is applied as follows : \n",
    "- For each cell, apply the kernel\n",
    "- take the values that are marked with 1 in kernel\n",
    "- take the minimum of all those values\n",
    "- put that value in the cell\n",
    "- pad the missing value (on borders for instance) with a constant which is 9"
   ]
  },
  {
   "cell_type": "code",
   "execution_count": 181,
   "metadata": {},
   "outputs": [
    {
     "name": "stdout",
     "output_type": "stream",
     "text": [
      "Min convolution\n",
      "[[1 2 1 7 4 3 2 1 0 1]\n",
      " [2 1 5 6 7 4 3 2 1 0]\n",
      " [3 5 6 5 6 7 4 7 2 1]\n",
      " [7 6 5 6 7 6 5 6 7 2]\n",
      " [8 7 6 7 6 5 6 5 6 7]]\n",
      "\n",
      "Condition matrix applied\n",
      "[[False  True False False False False False False False  True]\n",
      " [False False False False False False False False False False]\n",
      " [False False  True False False False False False False False]\n",
      " [False False False False False False False False False False]\n",
      " [False False False False False False  True False False False]]\n",
      "\n",
      "[1 0 5 5]\n",
      "The wanted solution is 15\n"
     ]
    }
   ],
   "source": [
    "# Create the condition matrix\n",
    "# Earliest attempts...\n",
    "# cond_m = values_m != values_m\n",
    "# cond_m = np.zeros(np.shape(values_m), dtype=bool)\n",
    "\n",
    "import scipy.ndimage as improc    \n",
    "\n",
    "# Take the Von Neumann neighborhood\n",
    "kernel = np.asarray([\n",
    "    [0, 1, 0],\n",
    "    [1, 0, 1],\n",
    "    [0, 1, 0]\n",
    "])\n",
    "\n",
    "min_m = improc.minimum_filter(values_m, footprint=kernel, mode='constant', cval=9)\n",
    "disp('Min convolution', min_m)\n",
    "\n",
    "cond_m = (values_m < min_m)\n",
    "\n",
    "disp('Condition matrix applied', cond_m)\n",
    "\n",
    "min_values = np.extract(cond_m, values_m)\n",
    "print(min_values)\n",
    "\n",
    "print(f'The wanted solution is {sum(min_values + 1)}')"
   ]
  },
  {
   "cell_type": "markdown",
   "metadata": {},
   "source": [
    "## Part 2\n",
    "Next, you need to find the largest basins so you know what areas are most important to avoid.\n",
    "\n",
    "A **basin** is all locations that eventually flow downward to a single low point. Therefore, every low point has a basin, although some basins are very small. Locations of height 9 do not count as being in any basin, and all other locations will always be part of exactly one basin.\n",
    "\n",
    "The **size** of a basin is the number of locations within the basin, including the low point. The example above has four basins.\n",
    "\n",
    "The top-left basin, size 3:\n",
    "\n",
    "```\n",
    "2199943210\n",
    "3987894921\n",
    "9856789892\n",
    "8767896789\n",
    "9899965678\n",
    "```\n",
    "\n",
    "The top-right basin, size 9:\n",
    "\n",
    "```\n",
    "2199943210\n",
    "3987894921\n",
    "9856789892\n",
    "8767896789\n",
    "9899965678\n",
    "```\n",
    "The middle basin, size 14:\n",
    "\n",
    "```\n",
    "2199943210\n",
    "3987894921\n",
    "9856789892\n",
    "8767896789\n",
    "9899965678\n",
    "```\n",
    "\n",
    "The bottom-right basin, size 9:\n",
    "\n",
    "```\n",
    "2199943210\n",
    "3987894921\n",
    "9856789892\n",
    "8767896789\n",
    "9899965678\n",
    "```\n",
    "\n",
    "Find the three largest basins and multiply their sizes together. In the above example, this is 9 * 14 * 9 = 1134.\n",
    "\n",
    "What do you get if you multiply together the sizes of the three largest basins?"
   ]
  },
  {
   "cell_type": "markdown",
   "metadata": {},
   "source": [
    "## Considerations for this solution\n",
    "I dediced to use image processing again. Here the solution is trivial using labeling from `scipy`. This process labels the values in a given contiguous neighbourhood with unique integers. \n",
    "\n",
    "We then just have to compute the size of each basin (which is easy because they have unique ids), take the 3 largest and multiply their sizes together to get the correct result."
   ]
  },
  {
   "cell_type": "code",
   "execution_count": 182,
   "metadata": {},
   "outputs": [
    {
     "name": "stdout",
     "output_type": "stream",
     "text": [
      "Labeled basins\n",
      "[[1 1 0 0 0 2 2 2 2 2]\n",
      " [1 0 3 3 3 0 2 0 2 2]\n",
      " [0 3 3 3 3 3 0 4 0 2]\n",
      " [3 3 3 3 3 0 4 4 4 0]\n",
      " [0 3 0 0 0 4 4 4 4 4]]\n",
      "\n",
      "Here are the basins sizes\n",
      "[3, 9, 14, 9]\n",
      "\n",
      "The solution is the product of the three largest basins : 1134\n"
     ]
    },
    {
     "data": {
      "text/plain": [
       "<matplotlib.image.AxesImage at 0x7fae1b536190>"
      ]
     },
     "execution_count": 182,
     "metadata": {},
     "output_type": "execute_result"
    },
    {
     "data": {
      "image/png": "[encoded data removed]",
      "text/plain": [
       "<Figure size 1080x1080 with 1 Axes>"
      ]
     },
     "metadata": {},
     "output_type": "display_data"
    }
   ],
   "source": [
    "thebasins, nbasins = improc.label(values_m < 9)\n",
    "\n",
    "disp(f'Labeled basins', thebasins)\n",
    "\n",
    "sizes=[]\n",
    "\n",
    "for i in range(nbasins):\n",
    "    sizes.append((thebasins == i+1).sum())\n",
    "\n",
    "disp('Here are the basins sizes', sizes)\n",
    "three_largest = sorted(sizes)[-3:]\n",
    "prod = reduce(lambda x, y : x * y, three_largest, 1)\n",
    "print(f'The solution is the product of the three largest basins : {prod}')\n",
    "\n",
    "plt.figure(figsize = (15,15))\n",
    "plt.tick_params(axis='both', colors='gray')\n",
    "plt.style.use('dark_background')\n",
    "plt.imshow(thebasins, vmin=abs(thebasins).min(), vmax=abs(thebasins).max(), origin='lower', cmap='rainbow', interpolation='None')"
   ]
  }
 ],
 "metadata": {
  "interpreter": {
   "hash": "916dbcbb3f70747c44a77c7bcd40155683ae19c65e1c03b4aa3499c5328201f1"
  },
  "kernelspec": {
   "display_name": "Python 3.8.5 64-bit",
   "language": "python",
   "name": "python3"
  },
  "language_info": {
   "codemirror_mode": {
    "name": "ipython",
    "version": 3
   },
   "file_extension": ".py",
   "mimetype": "text/x-python",
   "name": "python",
   "nbconvert_exporter": "python",
   "pygments_lexer": "ipython3",
   "version": "3.9.5"
  },
  "orig_nbformat": 4
 },
 "nbformat": 4,
 "nbformat_minor": 2
}
